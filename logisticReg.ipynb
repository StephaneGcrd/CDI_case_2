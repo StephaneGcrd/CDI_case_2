{
  "nbformat": 4,
  "nbformat_minor": 0,
  "metadata": {
    "kernelspec": {
      "display_name": "venv",
      "language": "python",
      "name": "venv"
    },
    "language_info": {
      "codemirror_mode": {
        "name": "ipython",
        "version": 3
      },
      "file_extension": ".py",
      "mimetype": "text/x-python",
      "name": "python",
      "nbconvert_exporter": "python",
      "pygments_lexer": "ipython3",
      "version": "3.9.0"
    },
    "colab": {
      "name": "Copy of DeadOrNotDead.ipynb",
      "provenance": [],
      "toc_visible": true
    }
  },
  "cells": [
    {
      "cell_type": "code",
      "metadata": {
        "id": "S2x1RYRZNX3T"
      },
      "source": [
        "import numpy as np\n",
        "import pandas as pd\n",
        "import matplotlib.pyplot as plt\n",
        "import seaborn as sns"
      ],
      "execution_count": 5,
      "outputs": []
    },
    {
      "cell_type": "code",
      "metadata": {
        "id": "LHJlTrwHNX3Z"
      },
      "source": [
        "df = pd.read_csv(\"MI_DB.csv\", index_col=0)\n",
        "# Replace to NaN and convert to float\n",
        "df = df.replace(\"?\", np.nan)\n",
        "df = df.apply(pd.to_numeric)"
      ],
      "execution_count": 6,
      "outputs": []
    },
    {
      "cell_type": "markdown",
      "metadata": {
        "id": "2j-hfBg6NX3a"
      },
      "source": [
        "### Filter out columns with too much NA values"
      ]
    },
    {
      "cell_type": "code",
      "metadata": {
        "id": "C9VMg8AtNX3b"
      },
      "source": [
        "record_count = df.count().to_numpy()\n",
        "indexes_high_na = np.where( record_count < 1700/2)[0]\n",
        "\n",
        "name_dropped = df.columns[indexes_high_na].to_numpy() #Keep track of the names of the columns we drop\n",
        "df = df.drop(df.columns[indexes_high_na], axis = 1)\n",
        "\n"
      ],
      "execution_count": 7,
      "outputs": []
    },
    {
      "cell_type": "code",
      "metadata": {
        "id": "fum_UdrvNX3d",
        "colab": {
          "base_uri": "https://localhost:8080/"
        },
        "outputId": "3d9b330d-e2f5-4cec-e542-7a562da50d37"
      },
      "source": [
        "treshold_na = int(0.3*119) # if more that 50% of missing values, get rid of the row (59)\n",
        "print(\"Treshold:\",treshold_na)\n",
        "\n",
        "def calculate_NA(row):\n",
        "    return row.isna().sum().sum()\n",
        "\n",
        "df[\"n_NA\"] = df.apply(calculate_NA, axis=1)\n",
        "\n",
        "np.max(df[\"n_NA\"])\n",
        "\n",
        "df = df.drop(df[df[\"n_NA\"] > treshold_na].index)\n",
        "df = df.drop([\"n_NA\"], axis=1)\n",
        "\n",
        "df[\"DEAD\"] = df[\"LET_IS\"].apply(lambda x: 1 if x > 0 else 0)"
      ],
      "execution_count": 8,
      "outputs": [
        {
          "output_type": "stream",
          "text": [
            "Treshold: 35\n"
          ],
          "name": "stdout"
        }
      ]
    },
    {
      "cell_type": "markdown",
      "metadata": {
        "id": "f-rXfowPNX3f"
      },
      "source": [
        "### Separate features by type (ordinal/binary/numeric)"
      ]
    },
    {
      "cell_type": "code",
      "metadata": {
        "id": "WYy2ADMYNX3f"
      },
      "source": [
        "numeric_attributes = [\"AGE\",\"S_AD_KBRIG\",\"D_AD_KBRIG\",\"S_AD_ORIT\",\"D_AD_ORIT\",\"K_BLOOD\",\"NA_BLOOD\",\n",
        "                      \"ALT_BLOOD\",\"AST_BLOOD\",\"KFK_BLOOD\",\"L_BLOOD\",\"ROE\"]\n",
        "\n",
        "numeric_attributes = [x for x in numeric_attributes if x not in name_dropped]\n",
        "\n",
        "ord_attributes = [\"INF_ANAM\",\"STENOK_AN\",\"FK_STENOK\",\"IBS_POST\",\"GB\",\"DLIT_AG\",\"ZSN_A\",\n",
        "                  \"ant_im\",\"lat_im\",\"inf_im\",\"post_im\",\"R_AB_1_n\",\"NA_R_1_n\",\"NOT_NA_1_n\",\n",
        "                 \"R_AB_2_n\",\"NA_R_2_n\",\"NOT_NA_2_n\",\"R_AB_3_n\",\"NA_R_3_n\",\"NOT_NA_3_n\",\"TIME_B_S\"]\n",
        "\n",
        "\n",
        "ord_attributes = [x for x in ord_attributes if x not in name_dropped]\n",
        "\n",
        "Y_labels = [\"FIBR_PREDS\",\"PREDS_TAH\",\"JELUD_TAH\",\"FIBR_JELUD\",\"A_V_BLOK\",\"OTEK_LANC\",\"RAZRIV\",\"DRESSLER\",\"ZSN\",\"REC_IM\",\"P_IM_STEN\",\"LET_IS\",\"DEAD\"]\n",
        "\n",
        "att_names = list(df.columns)\n",
        "\n",
        "bin_attributes = [x for x in att_names if x not in numeric_attributes+ord_attributes+Y_labels]\n",
        "bin_attributes = [x for x in bin_attributes if x not in name_dropped]\n",
        "\n",
        "colums_id_Y = [df.columns.get_loc(c) for c in Y_labels if c in df]"
      ],
      "execution_count": 9,
      "outputs": []
    },
    {
      "cell_type": "markdown",
      "metadata": {
        "id": "0XO_sae2NX3h"
      },
      "source": [
        "#### Note: the data set is quite imbalanced, but there is no missing values in the outcome features"
      ]
    },
    {
      "cell_type": "markdown",
      "metadata": {
        "id": "yWo5l27_NX3i"
      },
      "source": [
        "## Impute the missing values with KNN-impute"
      ]
    },
    {
      "cell_type": "code",
      "metadata": {
        "id": "M-YlknKvNX3i"
      },
      "source": [
        "from sklearn.impute import KNNImputer\n",
        "from sklearn import preprocessing\n",
        "from sklearn.pipeline import make_pipeline\n",
        "\n",
        "scaler = preprocessing.StandardScaler()\n",
        "\n",
        "pipe = make_pipeline(scaler, KNNImputer(n_neighbors=10))\n",
        "\n",
        "imputer = KNNImputer(n_neighbors=3)\n",
        "df_i = pipe.fit_transform(df)\n",
        "df_i = scaler.inverse_transform(df_i)\n",
        "\n",
        "sf_df = pd.DataFrame(df_i, index=df.index, columns=df.columns)"
      ],
      "execution_count": 10,
      "outputs": []
    },
    {
      "cell_type": "markdown",
      "metadata": {
        "id": "32f802KSNX3i"
      },
      "source": [
        "# Round the ordinal values to int"
      ]
    },
    {
      "cell_type": "code",
      "metadata": {
        "id": "u_m4oQULNX3i"
      },
      "source": [
        "sf_df[ord_attributes]= sf_df[ord_attributes].apply(round,axis=1)\n",
        "\n",
        "sf_df[bin_attributes]= sf_df[bin_attributes].apply(round,axis=1)\n",
        "\n",
        "sf_df_dum = pd.get_dummies(sf_df, columns=ord_attributes)"
      ],
      "execution_count": 11,
      "outputs": []
    },
    {
      "cell_type": "markdown",
      "metadata": {
        "id": "Fs9t6DsqNX3j"
      },
      "source": [
        "### Correlation matrix"
      ]
    },
    {
      "cell_type": "markdown",
      "metadata": {
        "id": "DpxPgt8pNX3k"
      },
      "source": [
        "## Separate X and Y"
      ]
    },
    {
      "cell_type": "code",
      "metadata": {
        "id": "VqihJ7o_NX3k"
      },
      "source": [
        "x_cols = bin_attributes+ord_attributes+numeric_attributes\n",
        "y_cols = Y_labels\n",
        "\n",
        "x_cols = [x for x in sf_df_dum.columns if x not in Y_labels]\n",
        "\n",
        "X = sf_df_dum[x_cols]\n",
        "Y = sf_df_dum[y_cols]\n",
        "\n",
        "scaler.fit(X)\n",
        "X_sc = scaler.transform(X)\n",
        "Y_dead = Y[\"DEAD\"].to_numpy()\n",
        "Y_dead = Y_dead.round().astype(int)"
      ],
      "execution_count": 18,
      "outputs": []
    },
    {
      "cell_type": "code",
      "metadata": {
        "id": "n3tQGQ2ANX3l"
      },
      "source": [
        "from imblearn.over_sampling import RandomOverSampler, SMOTE\n",
        "ros = RandomOverSampler(random_state=0)\n",
        "smo = SMOTE()"
      ],
      "execution_count": 19,
      "outputs": []
    },
    {
      "cell_type": "code",
      "metadata": {
        "colab": {
          "base_uri": "https://localhost:8080/"
        },
        "id": "l6pHc9JlRCQ8",
        "outputId": "066018d3-210f-41f1-9c55-a57e5ba75a07"
      },
      "source": [
        "Y_dead"
      ],
      "execution_count": 20,
      "outputs": [
        {
          "output_type": "execute_result",
          "data": {
            "text/plain": [
              "array([0, 0, 0, ..., 1, 1, 1])"
            ]
          },
          "metadata": {
            "tags": []
          },
          "execution_count": 20
        }
      ]
    },
    {
      "cell_type": "markdown",
      "metadata": {
        "id": "1tjVguDQNX3m"
      },
      "source": [
        "# Train a model"
      ]
    },
    {
      "cell_type": "code",
      "metadata": {
        "id": "w0oFUwPENX3m",
        "colab": {
          "base_uri": "https://localhost:8080/",
          "height": 1000
        },
        "outputId": "816fb74e-aee8-42c5-dcca-31728536d42d"
      },
      "source": [
        "from sklearn.model_selection import GridSearchCV, cross_val_score, KFold\n",
        "from sklearn.linear_model import SGDClassifier\n",
        "from sklearn.model_selection import GridSearchCV\n",
        "from sklearn.model_selection import RepeatedStratifiedKFold\n",
        "from sklearn.metrics import roc_auc_score, f1_score, balanced_accuracy_score,plot_confusion_matrix\n",
        "from sklearn.pipeline import Pipeline\n",
        "\n",
        "inner_cv = KFold(n_splits=5, shuffle=True)\n",
        "scores = []\n",
        "models = []\n",
        "\n",
        "for idx, (train_ids,test_ids) in enumerate(inner_cv.split(X_sc)):\n",
        "    x_train, x_test = X_sc[train_ids],X_sc[test_ids]\n",
        "    y_train, y_test = Y_dead[train_ids],Y_dead[test_ids]\n",
        "    \n",
        "    x_train, y_train =  ros.fit_resample(x_train, y_train)\n",
        "    \n",
        "    param_grid = {\n",
        "        'sgd__alpha': np.logspace(-4,4,25),\n",
        "        \"sgd__penalty\": [\"l1\",\"l2\",\"elasticnet\"],\n",
        "        \"sgd__l1_ratio\": np.linspace(0,0.1,1),\n",
        "        \"sgd__loss\" : ['log']\n",
        "    }\n",
        "\n",
        "    model = Pipeline([\n",
        "                          (\"sgd\",SGDClassifier(max_iter=10000))])\n",
        "    \n",
        "    cv = RepeatedStratifiedKFold(n_splits=5, n_repeats=3, random_state=1)\n",
        "\n",
        "    cv_grid = GridSearchCV(estimator = model, param_grid = param_grid, cv = cv, verbose=2, n_jobs=-1,scoring=\"roc_auc\")\n",
        "\n",
        "    cv_grid.fit(x_train, y_train)\n",
        "    print(f'best estimator: {cv_grid.best_estimator_}')\n",
        "    models.append(cv_grid.best_estimator_)\n",
        "\n",
        "    y_pred = cv_grid.predict(x_test)\n",
        "    plot_confusion_matrix(cv_grid, x_test, y_test)  \n",
        "    scores.append(balanced_accuracy_score(y_pred,y_test))\n",
        "\n",
        "print(np.mean(scores))"
      ],
      "execution_count": 27,
      "outputs": [
        {
          "output_type": "stream",
          "text": [
            "Fitting 15 folds for each of 75 candidates, totalling 1125 fits\n"
          ],
          "name": "stdout"
        },
        {
          "output_type": "stream",
          "text": [
            "/usr/local/lib/python3.7/dist-packages/sklearn/utils/deprecation.py:87: FutureWarning: Function safe_indexing is deprecated; safe_indexing is deprecated in version 0.22 and will be removed in version 0.24.\n",
            "  warnings.warn(msg, category=FutureWarning)\n",
            "[Parallel(n_jobs=-1)]: Using backend LokyBackend with 2 concurrent workers.\n",
            "[Parallel(n_jobs=-1)]: Done  37 tasks      | elapsed:    6.6s\n",
            "[Parallel(n_jobs=-1)]: Done 158 tasks      | elapsed:   45.9s\n",
            "[Parallel(n_jobs=-1)]: Done 448 tasks      | elapsed:  1.2min\n",
            "[Parallel(n_jobs=-1)]: Done 1125 out of 1125 | elapsed:  1.4min finished\n",
            "/usr/local/lib/python3.7/dist-packages/sklearn/utils/deprecation.py:87: FutureWarning: Function safe_indexing is deprecated; safe_indexing is deprecated in version 0.22 and will be removed in version 0.24.\n",
            "  warnings.warn(msg, category=FutureWarning)\n",
            "[Parallel(n_jobs=-1)]: Using backend LokyBackend with 2 concurrent workers.\n"
          ],
          "name": "stderr"
        },
        {
          "output_type": "stream",
          "text": [
            "best estimator: Pipeline(memory=None,\n",
            "         steps=[('sgd',\n",
            "                 SGDClassifier(alpha=0.01, average=False, class_weight=None,\n",
            "                               early_stopping=False, epsilon=0.1, eta0=0.0,\n",
            "                               fit_intercept=True, l1_ratio=0.0,\n",
            "                               learning_rate='optimal', loss='log',\n",
            "                               max_iter=10000, n_iter_no_change=5, n_jobs=None,\n",
            "                               penalty='l2', power_t=0.5, random_state=None,\n",
            "                               shuffle=True, tol=0.001, validation_fraction=0.1,\n",
            "                               verbose=0, warm_start=False))],\n",
            "         verbose=False)\n",
            "Fitting 15 folds for each of 75 candidates, totalling 1125 fits\n"
          ],
          "name": "stdout"
        },
        {
          "output_type": "stream",
          "text": [
            "[Parallel(n_jobs=-1)]: Done  37 tasks      | elapsed:    6.3s\n",
            "[Parallel(n_jobs=-1)]: Done 158 tasks      | elapsed:   48.7s\n",
            "[Parallel(n_jobs=-1)]: Done 486 tasks      | elapsed:  1.4min\n",
            "[Parallel(n_jobs=-1)]: Done 1125 out of 1125 | elapsed:  1.5min finished\n",
            "/usr/local/lib/python3.7/dist-packages/sklearn/utils/deprecation.py:87: FutureWarning: Function safe_indexing is deprecated; safe_indexing is deprecated in version 0.22 and will be removed in version 0.24.\n",
            "  warnings.warn(msg, category=FutureWarning)\n",
            "[Parallel(n_jobs=-1)]: Using backend LokyBackend with 2 concurrent workers.\n"
          ],
          "name": "stderr"
        },
        {
          "output_type": "stream",
          "text": [
            "best estimator: Pipeline(memory=None,\n",
            "         steps=[('sgd',\n",
            "                 SGDClassifier(alpha=0.01, average=False, class_weight=None,\n",
            "                               early_stopping=False, epsilon=0.1, eta0=0.0,\n",
            "                               fit_intercept=True, l1_ratio=0.0,\n",
            "                               learning_rate='optimal', loss='log',\n",
            "                               max_iter=10000, n_iter_no_change=5, n_jobs=None,\n",
            "                               penalty='l2', power_t=0.5, random_state=None,\n",
            "                               shuffle=True, tol=0.001, validation_fraction=0.1,\n",
            "                               verbose=0, warm_start=False))],\n",
            "         verbose=False)\n",
            "Fitting 15 folds for each of 75 candidates, totalling 1125 fits\n"
          ],
          "name": "stdout"
        },
        {
          "output_type": "stream",
          "text": [
            "[Parallel(n_jobs=-1)]: Done  37 tasks      | elapsed:    6.0s\n",
            "[Parallel(n_jobs=-1)]: Done 158 tasks      | elapsed:   47.7s\n",
            "[Parallel(n_jobs=-1)]: Done 418 tasks      | elapsed:  1.3min\n",
            "[Parallel(n_jobs=-1)]: Done 1125 out of 1125 | elapsed:  1.5min finished\n"
          ],
          "name": "stderr"
        },
        {
          "output_type": "stream",
          "text": [
            "best estimator: Pipeline(memory=None,\n",
            "         steps=[('sgd',\n",
            "                 SGDClassifier(alpha=0.021544346900318822, average=False,\n",
            "                               class_weight=None, early_stopping=False,\n",
            "                               epsilon=0.1, eta0=0.0, fit_intercept=True,\n",
            "                               l1_ratio=0.0, learning_rate='optimal',\n",
            "                               loss='log', max_iter=10000, n_iter_no_change=5,\n",
            "                               n_jobs=None, penalty='elasticnet', power_t=0.5,\n",
            "                               random_state=None, shuffle=True, tol=0.001,\n",
            "                               validation_fraction=0.1, verbose=0,\n",
            "                               warm_start=False))],\n",
            "         verbose=False)\n",
            "Fitting 15 folds for each of 75 candidates, totalling 1125 fits\n"
          ],
          "name": "stdout"
        },
        {
          "output_type": "stream",
          "text": [
            "/usr/local/lib/python3.7/dist-packages/sklearn/utils/deprecation.py:87: FutureWarning: Function safe_indexing is deprecated; safe_indexing is deprecated in version 0.22 and will be removed in version 0.24.\n",
            "  warnings.warn(msg, category=FutureWarning)\n",
            "[Parallel(n_jobs=-1)]: Using backend LokyBackend with 2 concurrent workers.\n",
            "[Parallel(n_jobs=-1)]: Done  37 tasks      | elapsed:    7.5s\n",
            "[Parallel(n_jobs=-1)]: Done 158 tasks      | elapsed:   54.3s\n",
            "[Parallel(n_jobs=-1)]: Done 422 tasks      | elapsed:  1.5min\n",
            "[Parallel(n_jobs=-1)]: Done 1125 out of 1125 | elapsed:  1.6min finished\n",
            "/usr/local/lib/python3.7/dist-packages/sklearn/utils/deprecation.py:87: FutureWarning: Function safe_indexing is deprecated; safe_indexing is deprecated in version 0.22 and will be removed in version 0.24.\n",
            "  warnings.warn(msg, category=FutureWarning)\n",
            "[Parallel(n_jobs=-1)]: Using backend LokyBackend with 2 concurrent workers.\n"
          ],
          "name": "stderr"
        },
        {
          "output_type": "stream",
          "text": [
            "best estimator: Pipeline(memory=None,\n",
            "         steps=[('sgd',\n",
            "                 SGDClassifier(alpha=0.01, average=False, class_weight=None,\n",
            "                               early_stopping=False, epsilon=0.1, eta0=0.0,\n",
            "                               fit_intercept=True, l1_ratio=0.0,\n",
            "                               learning_rate='optimal', loss='log',\n",
            "                               max_iter=10000, n_iter_no_change=5, n_jobs=None,\n",
            "                               penalty='l2', power_t=0.5, random_state=None,\n",
            "                               shuffle=True, tol=0.001, validation_fraction=0.1,\n",
            "                               verbose=0, warm_start=False))],\n",
            "         verbose=False)\n",
            "Fitting 15 folds for each of 75 candidates, totalling 1125 fits\n"
          ],
          "name": "stdout"
        },
        {
          "output_type": "stream",
          "text": [
            "[Parallel(n_jobs=-1)]: Done  37 tasks      | elapsed:    6.6s\n",
            "[Parallel(n_jobs=-1)]: Done 158 tasks      | elapsed:   53.6s\n",
            "[Parallel(n_jobs=-1)]: Done 422 tasks      | elapsed:  1.4min\n",
            "[Parallel(n_jobs=-1)]: Done 1125 out of 1125 | elapsed:  1.6min finished\n"
          ],
          "name": "stderr"
        },
        {
          "output_type": "stream",
          "text": [
            "best estimator: Pipeline(memory=None,\n",
            "         steps=[('sgd',\n",
            "                 SGDClassifier(alpha=0.021544346900318822, average=False,\n",
            "                               class_weight=None, early_stopping=False,\n",
            "                               epsilon=0.1, eta0=0.0, fit_intercept=True,\n",
            "                               l1_ratio=0.0, learning_rate='optimal',\n",
            "                               loss='log', max_iter=10000, n_iter_no_change=5,\n",
            "                               n_jobs=None, penalty='l2', power_t=0.5,\n",
            "                               random_state=None, shuffle=True, tol=0.001,\n",
            "                               validation_fraction=0.1, verbose=0,\n",
            "                               warm_start=False))],\n",
            "         verbose=False)\n",
            "0.6873723446131615\n"
          ],
          "name": "stdout"
        },
        {
          "output_type": "display_data",
          "data": {
            "image/png": "[encoded data removed]",
            "text/plain": [
              "<Figure size 432x288 with 2 Axes>"
            ]
          },
          "metadata": {
            "tags": [],
            "needs_background": "light"
          }
        },
        {
          "output_type": "display_data",
          "data": {
            "image/png": "[encoded data removed]",
            "text/plain": [
              "<Figure size 432x288 with 2 Axes>"
            ]
          },
          "metadata": {
            "tags": [],
            "needs_background": "light"
          }
        },
        {
          "output_type": "display_data",
          "data": {
            "image/png": "[encoded data removed]",
            "text/plain": [
              "<Figure size 432x288 with 2 Axes>"
            ]
          },
          "metadata": {
            "tags": [],
            "needs_background": "light"
          }
        },
        {
          "output_type": "display_data",
          "data": {
            "image/png": "[encoded data removed]",
            "text/plain": [
              "<Figure size 432x288 with 2 Axes>"
            ]
          },
          "metadata": {
            "tags": [],
            "needs_background": "light"
          }
        },
        {
          "output_type": "display_data",
          "data": {
            "image/png": "[encoded data removed]",
            "text/plain": [
              "<Figure size 432x288 with 2 Axes>"
            ]
          },
          "metadata": {
            "tags": [],
            "needs_background": "light"
          }
        }
      ]
    },
    {
      "cell_type": "code",
      "metadata": {
        "id": "VNbO4ahINX3q",
        "colab": {
          "base_uri": "https://localhost:8080/"
        },
        "outputId": "02c4d7b8-5059-4b55-8798-27ef69244897"
      },
      "source": [
        "name, model = models[0].steps[0]\n",
        "model.get_params()"
      ],
      "execution_count": 43,
      "outputs": [
        {
          "output_type": "execute_result",
          "data": {
            "text/plain": [
              "{'alpha': 0.01,\n",
              " 'average': False,\n",
              " 'class_weight': None,\n",
              " 'early_stopping': False,\n",
              " 'epsilon': 0.1,\n",
              " 'eta0': 0.0,\n",
              " 'fit_intercept': True,\n",
              " 'l1_ratio': 0.0,\n",
              " 'learning_rate': 'optimal',\n",
              " 'loss': 'log',\n",
              " 'max_iter': 10000,\n",
              " 'n_iter_no_change': 5,\n",
              " 'n_jobs': None,\n",
              " 'penalty': 'l2',\n",
              " 'power_t': 0.5,\n",
              " 'random_state': None,\n",
              " 'shuffle': True,\n",
              " 'tol': 0.001,\n",
              " 'validation_fraction': 0.1,\n",
              " 'verbose': 0,\n",
              " 'warm_start': False}"
            ]
          },
          "metadata": {
            "tags": []
          },
          "execution_count": 43
        }
      ]
    },
    {
      "cell_type": "code",
      "metadata": {
        "colab": {
          "base_uri": "https://localhost:8080/"
        },
        "id": "7RkrZ3KjVr_m",
        "outputId": "1833f2b5-8cf3-44db-aeed-14480c36784e"
      },
      "source": [
        "# Better evaluate the models\n",
        "\n",
        "\n",
        "\n",
        "score_matrix = []\n",
        "\n",
        "for a in range(30):\n",
        "  inner_cv = KFold(n_splits=3, shuffle=True)\n",
        "  for idx, (train_ids,test_ids) in enumerate(inner_cv.split(X_sc)):\n",
        "      x_train, x_test = X_sc[train_ids],X_sc[test_ids]\n",
        "      y_train, y_test = Y_dead[train_ids],Y_dead[test_ids]\n",
        "      \n",
        "      x_train, y_train =  ros.fit_resample(x_train, y_train)\n",
        "      scores = []\n",
        "      for model_pip in models:\n",
        "        name, model = model_pip.steps[0]\n",
        "        para = model.get_params()\n",
        "        model = SGDClassifier(**para)\n",
        "        model.fit(x_train, y_train)\n",
        "\n",
        "        y_pred = model.predict(x_test)\n",
        "        scores.append(balanced_accuracy_score(y_pred,y_test))\n",
        "\n",
        "      score_matrix.append(scores)\n",
        "\n"
      ],
      "execution_count": 52,
      "outputs": [
        {
          "output_type": "stream",
          "text": [
            "/usr/local/lib/python3.7/dist-packages/sklearn/utils/deprecation.py:87: FutureWarning: Function safe_indexing is deprecated; safe_indexing is deprecated in version 0.22 and will be removed in version 0.24.\n",
            "  warnings.warn(msg, category=FutureWarning)\n",
            "/usr/local/lib/python3.7/dist-packages/sklearn/utils/deprecation.py:87: FutureWarning: Function safe_indexing is deprecated; safe_indexing is deprecated in version 0.22 and will be removed in version 0.24.\n",
            "  warnings.warn(msg, category=FutureWarning)\n",
            "/usr/local/lib/python3.7/dist-packages/sklearn/utils/deprecation.py:87: FutureWarning: Function safe_indexing is deprecated; safe_indexing is deprecated in version 0.22 and will be removed in version 0.24.\n",
            "  warnings.warn(msg, category=FutureWarning)\n",
            "/usr/local/lib/python3.7/dist-packages/sklearn/utils/deprecation.py:87: FutureWarning: Function safe_indexing is deprecated; safe_indexing is deprecated in version 0.22 and will be removed in version 0.24.\n",
            "  warnings.warn(msg, category=FutureWarning)\n",
            "/usr/local/lib/python3.7/dist-packages/sklearn/utils/deprecation.py:87: FutureWarning: Function safe_indexing is deprecated; safe_indexing is deprecated in version 0.22 and will be removed in version 0.24.\n",
            "  warnings.warn(msg, category=FutureWarning)\n",
            "/usr/local/lib/python3.7/dist-packages/sklearn/utils/deprecation.py:87: FutureWarning: Function safe_indexing is deprecated; safe_indexing is deprecated in version 0.22 and will be removed in version 0.24.\n",
            "  warnings.warn(msg, category=FutureWarning)\n",
            "/usr/local/lib/python3.7/dist-packages/sklearn/utils/deprecation.py:87: FutureWarning: Function safe_indexing is deprecated; safe_indexing is deprecated in version 0.22 and will be removed in version 0.24.\n",
            "  warnings.warn(msg, category=FutureWarning)\n",
            "/usr/local/lib/python3.7/dist-packages/sklearn/utils/deprecation.py:87: FutureWarning: Function safe_indexing is deprecated; safe_indexing is deprecated in version 0.22 and will be removed in version 0.24.\n",
            "  warnings.warn(msg, category=FutureWarning)\n",
            "/usr/local/lib/python3.7/dist-packages/sklearn/utils/deprecation.py:87: FutureWarning: Function safe_indexing is deprecated; safe_indexing is deprecated in version 0.22 and will be removed in version 0.24.\n",
            "  warnings.warn(msg, category=FutureWarning)\n",
            "/usr/local/lib/python3.7/dist-packages/sklearn/utils/deprecation.py:87: FutureWarning: Function safe_indexing is deprecated; safe_indexing is deprecated in version 0.22 and will be removed in version 0.24.\n",
            "  warnings.warn(msg, category=FutureWarning)\n",
            "/usr/local/lib/python3.7/dist-packages/sklearn/utils/deprecation.py:87: FutureWarning: Function safe_indexing is deprecated; safe_indexing is deprecated in version 0.22 and will be removed in version 0.24.\n",
            "  warnings.warn(msg, category=FutureWarning)\n",
            "/usr/local/lib/python3.7/dist-packages/sklearn/utils/deprecation.py:87: FutureWarning: Function safe_indexing is deprecated; safe_indexing is deprecated in version 0.22 and will be removed in version 0.24.\n",
            "  warnings.warn(msg, category=FutureWarning)\n",
            "/usr/local/lib/python3.7/dist-packages/sklearn/utils/deprecation.py:87: FutureWarning: Function safe_indexing is deprecated; safe_indexing is deprecated in version 0.22 and will be removed in version 0.24.\n",
            "  warnings.warn(msg, category=FutureWarning)\n",
            "/usr/local/lib/python3.7/dist-packages/sklearn/utils/deprecation.py:87: FutureWarning: Function safe_indexing is deprecated; safe_indexing is deprecated in version 0.22 and will be removed in version 0.24.\n",
            "  warnings.warn(msg, category=FutureWarning)\n",
            "/usr/local/lib/python3.7/dist-packages/sklearn/utils/deprecation.py:87: FutureWarning: Function safe_indexing is deprecated; safe_indexing is deprecated in version 0.22 and will be removed in version 0.24.\n",
            "  warnings.warn(msg, category=FutureWarning)\n",
            "/usr/local/lib/python3.7/dist-packages/sklearn/utils/deprecation.py:87: FutureWarning: Function safe_indexing is deprecated; safe_indexing is deprecated in version 0.22 and will be removed in version 0.24.\n",
            "  warnings.warn(msg, category=FutureWarning)\n",
            "/usr/local/lib/python3.7/dist-packages/sklearn/utils/deprecation.py:87: FutureWarning: Function safe_indexing is deprecated; safe_indexing is deprecated in version 0.22 and will be removed in version 0.24.\n",
            "  warnings.warn(msg, category=FutureWarning)\n",
            "/usr/local/lib/python3.7/dist-packages/sklearn/utils/deprecation.py:87: FutureWarning: Function safe_indexing is deprecated; safe_indexing is deprecated in version 0.22 and will be removed in version 0.24.\n",
            "  warnings.warn(msg, category=FutureWarning)\n",
            "/usr/local/lib/python3.7/dist-packages/sklearn/utils/deprecation.py:87: FutureWarning: Function safe_indexing is deprecated; safe_indexing is deprecated in version 0.22 and will be removed in version 0.24.\n",
            "  warnings.warn(msg, category=FutureWarning)\n",
            "/usr/local/lib/python3.7/dist-packages/sklearn/utils/deprecation.py:87: FutureWarning: Function safe_indexing is deprecated; safe_indexing is deprecated in version 0.22 and will be removed in version 0.24.\n",
            "  warnings.warn(msg, category=FutureWarning)\n",
            "/usr/local/lib/python3.7/dist-packages/sklearn/utils/deprecation.py:87: FutureWarning: Function safe_indexing is deprecated; safe_indexing is deprecated in version 0.22 and will be removed in version 0.24.\n",
            "  warnings.warn(msg, category=FutureWarning)\n",
            "/usr/local/lib/python3.7/dist-packages/sklearn/utils/deprecation.py:87: FutureWarning: Function safe_indexing is deprecated; safe_indexing is deprecated in version 0.22 and will be removed in version 0.24.\n",
            "  warnings.warn(msg, category=FutureWarning)\n",
            "/usr/local/lib/python3.7/dist-packages/sklearn/utils/deprecation.py:87: FutureWarning: Function safe_indexing is deprecated; safe_indexing is deprecated in version 0.22 and will be removed in version 0.24.\n",
            "  warnings.warn(msg, category=FutureWarning)\n",
            "/usr/local/lib/python3.7/dist-packages/sklearn/utils/deprecation.py:87: FutureWarning: Function safe_indexing is deprecated; safe_indexing is deprecated in version 0.22 and will be removed in version 0.24.\n",
            "  warnings.warn(msg, category=FutureWarning)\n",
            "/usr/local/lib/python3.7/dist-packages/sklearn/utils/deprecation.py:87: FutureWarning: Function safe_indexing is deprecated; safe_indexing is deprecated in version 0.22 and will be removed in version 0.24.\n",
            "  warnings.warn(msg, category=FutureWarning)\n",
            "/usr/local/lib/python3.7/dist-packages/sklearn/utils/deprecation.py:87: FutureWarning: Function safe_indexing is deprecated; safe_indexing is deprecated in version 0.22 and will be removed in version 0.24.\n",
            "  warnings.warn(msg, category=FutureWarning)\n",
            "/usr/local/lib/python3.7/dist-packages/sklearn/utils/deprecation.py:87: FutureWarning: Function safe_indexing is deprecated; safe_indexing is deprecated in version 0.22 and will be removed in version 0.24.\n",
            "  warnings.warn(msg, category=FutureWarning)\n",
            "/usr/local/lib/python3.7/dist-packages/sklearn/utils/deprecation.py:87: FutureWarning: Function safe_indexing is deprecated; safe_indexing is deprecated in version 0.22 and will be removed in version 0.24.\n",
            "  warnings.warn(msg, category=FutureWarning)\n",
            "/usr/local/lib/python3.7/dist-packages/sklearn/utils/deprecation.py:87: FutureWarning: Function safe_indexing is deprecated; safe_indexing is deprecated in version 0.22 and will be removed in version 0.24.\n",
            "  warnings.warn(msg, category=FutureWarning)\n",
            "/usr/local/lib/python3.7/dist-packages/sklearn/utils/deprecation.py:87: FutureWarning: Function safe_indexing is deprecated; safe_indexing is deprecated in version 0.22 and will be removed in version 0.24.\n",
            "  warnings.warn(msg, category=FutureWarning)\n",
            "/usr/local/lib/python3.7/dist-packages/sklearn/utils/deprecation.py:87: FutureWarning: Function safe_indexing is deprecated; safe_indexing is deprecated in version 0.22 and will be removed in version 0.24.\n",
            "  warnings.warn(msg, category=FutureWarning)\n",
            "/usr/local/lib/python3.7/dist-packages/sklearn/utils/deprecation.py:87: FutureWarning: Function safe_indexing is deprecated; safe_indexing is deprecated in version 0.22 and will be removed in version 0.24.\n",
            "  warnings.warn(msg, category=FutureWarning)\n",
            "/usr/local/lib/python3.7/dist-packages/sklearn/utils/deprecation.py:87: FutureWarning: Function safe_indexing is deprecated; safe_indexing is deprecated in version 0.22 and will be removed in version 0.24.\n",
            "  warnings.warn(msg, category=FutureWarning)\n",
            "/usr/local/lib/python3.7/dist-packages/sklearn/utils/deprecation.py:87: FutureWarning: Function safe_indexing is deprecated; safe_indexing is deprecated in version 0.22 and will be removed in version 0.24.\n",
            "  warnings.warn(msg, category=FutureWarning)\n",
            "/usr/local/lib/python3.7/dist-packages/sklearn/utils/deprecation.py:87: FutureWarning: Function safe_indexing is deprecated; safe_indexing is deprecated in version 0.22 and will be removed in version 0.24.\n",
            "  warnings.warn(msg, category=FutureWarning)\n",
            "/usr/local/lib/python3.7/dist-packages/sklearn/utils/deprecation.py:87: FutureWarning: Function safe_indexing is deprecated; safe_indexing is deprecated in version 0.22 and will be removed in version 0.24.\n",
            "  warnings.warn(msg, category=FutureWarning)\n",
            "/usr/local/lib/python3.7/dist-packages/sklearn/utils/deprecation.py:87: FutureWarning: Function safe_indexing is deprecated; safe_indexing is deprecated in version 0.22 and will be removed in version 0.24.\n",
            "  warnings.warn(msg, category=FutureWarning)\n",
            "/usr/local/lib/python3.7/dist-packages/sklearn/utils/deprecation.py:87: FutureWarning: Function safe_indexing is deprecated; safe_indexing is deprecated in version 0.22 and will be removed in version 0.24.\n",
            "  warnings.warn(msg, category=FutureWarning)\n",
            "/usr/local/lib/python3.7/dist-packages/sklearn/utils/deprecation.py:87: FutureWarning: Function safe_indexing is deprecated; safe_indexing is deprecated in version 0.22 and will be removed in version 0.24.\n",
            "  warnings.warn(msg, category=FutureWarning)\n",
            "/usr/local/lib/python3.7/dist-packages/sklearn/utils/deprecation.py:87: FutureWarning: Function safe_indexing is deprecated; safe_indexing is deprecated in version 0.22 and will be removed in version 0.24.\n",
            "  warnings.warn(msg, category=FutureWarning)\n",
            "/usr/local/lib/python3.7/dist-packages/sklearn/utils/deprecation.py:87: FutureWarning: Function safe_indexing is deprecated; safe_indexing is deprecated in version 0.22 and will be removed in version 0.24.\n",
            "  warnings.warn(msg, category=FutureWarning)\n",
            "/usr/local/lib/python3.7/dist-packages/sklearn/utils/deprecation.py:87: FutureWarning: Function safe_indexing is deprecated; safe_indexing is deprecated in version 0.22 and will be removed in version 0.24.\n",
            "  warnings.warn(msg, category=FutureWarning)\n",
            "/usr/local/lib/python3.7/dist-packages/sklearn/utils/deprecation.py:87: FutureWarning: Function safe_indexing is deprecated; safe_indexing is deprecated in version 0.22 and will be removed in version 0.24.\n",
            "  warnings.warn(msg, category=FutureWarning)\n",
            "/usr/local/lib/python3.7/dist-packages/sklearn/utils/deprecation.py:87: FutureWarning: Function safe_indexing is deprecated; safe_indexing is deprecated in version 0.22 and will be removed in version 0.24.\n",
            "  warnings.warn(msg, category=FutureWarning)\n",
            "/usr/local/lib/python3.7/dist-packages/sklearn/utils/deprecation.py:87: FutureWarning: Function safe_indexing is deprecated; safe_indexing is deprecated in version 0.22 and will be removed in version 0.24.\n",
            "  warnings.warn(msg, category=FutureWarning)\n",
            "/usr/local/lib/python3.7/dist-packages/sklearn/utils/deprecation.py:87: FutureWarning: Function safe_indexing is deprecated; safe_indexing is deprecated in version 0.22 and will be removed in version 0.24.\n",
            "  warnings.warn(msg, category=FutureWarning)\n",
            "/usr/local/lib/python3.7/dist-packages/sklearn/utils/deprecation.py:87: FutureWarning: Function safe_indexing is deprecated; safe_indexing is deprecated in version 0.22 and will be removed in version 0.24.\n",
            "  warnings.warn(msg, category=FutureWarning)\n",
            "/usr/local/lib/python3.7/dist-packages/sklearn/utils/deprecation.py:87: FutureWarning: Function safe_indexing is deprecated; safe_indexing is deprecated in version 0.22 and will be removed in version 0.24.\n",
            "  warnings.warn(msg, category=FutureWarning)\n",
            "/usr/local/lib/python3.7/dist-packages/sklearn/utils/deprecation.py:87: FutureWarning: Function safe_indexing is deprecated; safe_indexing is deprecated in version 0.22 and will be removed in version 0.24.\n",
            "  warnings.warn(msg, category=FutureWarning)\n",
            "/usr/local/lib/python3.7/dist-packages/sklearn/utils/deprecation.py:87: FutureWarning: Function safe_indexing is deprecated; safe_indexing is deprecated in version 0.22 and will be removed in version 0.24.\n",
            "  warnings.warn(msg, category=FutureWarning)\n",
            "/usr/local/lib/python3.7/dist-packages/sklearn/utils/deprecation.py:87: FutureWarning: Function safe_indexing is deprecated; safe_indexing is deprecated in version 0.22 and will be removed in version 0.24.\n",
            "  warnings.warn(msg, category=FutureWarning)\n",
            "/usr/local/lib/python3.7/dist-packages/sklearn/utils/deprecation.py:87: FutureWarning: Function safe_indexing is deprecated; safe_indexing is deprecated in version 0.22 and will be removed in version 0.24.\n",
            "  warnings.warn(msg, category=FutureWarning)\n",
            "/usr/local/lib/python3.7/dist-packages/sklearn/utils/deprecation.py:87: FutureWarning: Function safe_indexing is deprecated; safe_indexing is deprecated in version 0.22 and will be removed in version 0.24.\n",
            "  warnings.warn(msg, category=FutureWarning)\n",
            "/usr/local/lib/python3.7/dist-packages/sklearn/utils/deprecation.py:87: FutureWarning: Function safe_indexing is deprecated; safe_indexing is deprecated in version 0.22 and will be removed in version 0.24.\n",
            "  warnings.warn(msg, category=FutureWarning)\n",
            "/usr/local/lib/python3.7/dist-packages/sklearn/utils/deprecation.py:87: FutureWarning: Function safe_indexing is deprecated; safe_indexing is deprecated in version 0.22 and will be removed in version 0.24.\n",
            "  warnings.warn(msg, category=FutureWarning)\n",
            "/usr/local/lib/python3.7/dist-packages/sklearn/utils/deprecation.py:87: FutureWarning: Function safe_indexing is deprecated; safe_indexing is deprecated in version 0.22 and will be removed in version 0.24.\n",
            "  warnings.warn(msg, category=FutureWarning)\n",
            "/usr/local/lib/python3.7/dist-packages/sklearn/utils/deprecation.py:87: FutureWarning: Function safe_indexing is deprecated; safe_indexing is deprecated in version 0.22 and will be removed in version 0.24.\n",
            "  warnings.warn(msg, category=FutureWarning)\n",
            "/usr/local/lib/python3.7/dist-packages/sklearn/utils/deprecation.py:87: FutureWarning: Function safe_indexing is deprecated; safe_indexing is deprecated in version 0.22 and will be removed in version 0.24.\n",
            "  warnings.warn(msg, category=FutureWarning)\n",
            "/usr/local/lib/python3.7/dist-packages/sklearn/utils/deprecation.py:87: FutureWarning: Function safe_indexing is deprecated; safe_indexing is deprecated in version 0.22 and will be removed in version 0.24.\n",
            "  warnings.warn(msg, category=FutureWarning)\n",
            "/usr/local/lib/python3.7/dist-packages/sklearn/utils/deprecation.py:87: FutureWarning: Function safe_indexing is deprecated; safe_indexing is deprecated in version 0.22 and will be removed in version 0.24.\n",
            "  warnings.warn(msg, category=FutureWarning)\n",
            "/usr/local/lib/python3.7/dist-packages/sklearn/utils/deprecation.py:87: FutureWarning: Function safe_indexing is deprecated; safe_indexing is deprecated in version 0.22 and will be removed in version 0.24.\n",
            "  warnings.warn(msg, category=FutureWarning)\n",
            "/usr/local/lib/python3.7/dist-packages/sklearn/utils/deprecation.py:87: FutureWarning: Function safe_indexing is deprecated; safe_indexing is deprecated in version 0.22 and will be removed in version 0.24.\n",
            "  warnings.warn(msg, category=FutureWarning)\n",
            "/usr/local/lib/python3.7/dist-packages/sklearn/utils/deprecation.py:87: FutureWarning: Function safe_indexing is deprecated; safe_indexing is deprecated in version 0.22 and will be removed in version 0.24.\n",
            "  warnings.warn(msg, category=FutureWarning)\n",
            "/usr/local/lib/python3.7/dist-packages/sklearn/utils/deprecation.py:87: FutureWarning: Function safe_indexing is deprecated; safe_indexing is deprecated in version 0.22 and will be removed in version 0.24.\n",
            "  warnings.warn(msg, category=FutureWarning)\n",
            "/usr/local/lib/python3.7/dist-packages/sklearn/utils/deprecation.py:87: FutureWarning: Function safe_indexing is deprecated; safe_indexing is deprecated in version 0.22 and will be removed in version 0.24.\n",
            "  warnings.warn(msg, category=FutureWarning)\n",
            "/usr/local/lib/python3.7/dist-packages/sklearn/utils/deprecation.py:87: FutureWarning: Function safe_indexing is deprecated; safe_indexing is deprecated in version 0.22 and will be removed in version 0.24.\n",
            "  warnings.warn(msg, category=FutureWarning)\n",
            "/usr/local/lib/python3.7/dist-packages/sklearn/utils/deprecation.py:87: FutureWarning: Function safe_indexing is deprecated; safe_indexing is deprecated in version 0.22 and will be removed in version 0.24.\n",
            "  warnings.warn(msg, category=FutureWarning)\n",
            "/usr/local/lib/python3.7/dist-packages/sklearn/utils/deprecation.py:87: FutureWarning: Function safe_indexing is deprecated; safe_indexing is deprecated in version 0.22 and will be removed in version 0.24.\n",
            "  warnings.warn(msg, category=FutureWarning)\n",
            "/usr/local/lib/python3.7/dist-packages/sklearn/utils/deprecation.py:87: FutureWarning: Function safe_indexing is deprecated; safe_indexing is deprecated in version 0.22 and will be removed in version 0.24.\n",
            "  warnings.warn(msg, category=FutureWarning)\n",
            "/usr/local/lib/python3.7/dist-packages/sklearn/utils/deprecation.py:87: FutureWarning: Function safe_indexing is deprecated; safe_indexing is deprecated in version 0.22 and will be removed in version 0.24.\n",
            "  warnings.warn(msg, category=FutureWarning)\n",
            "/usr/local/lib/python3.7/dist-packages/sklearn/utils/deprecation.py:87: FutureWarning: Function safe_indexing is deprecated; safe_indexing is deprecated in version 0.22 and will be removed in version 0.24.\n",
            "  warnings.warn(msg, category=FutureWarning)\n",
            "/usr/local/lib/python3.7/dist-packages/sklearn/utils/deprecation.py:87: FutureWarning: Function safe_indexing is deprecated; safe_indexing is deprecated in version 0.22 and will be removed in version 0.24.\n",
            "  warnings.warn(msg, category=FutureWarning)\n",
            "/usr/local/lib/python3.7/dist-packages/sklearn/utils/deprecation.py:87: FutureWarning: Function safe_indexing is deprecated; safe_indexing is deprecated in version 0.22 and will be removed in version 0.24.\n",
            "  warnings.warn(msg, category=FutureWarning)\n",
            "/usr/local/lib/python3.7/dist-packages/sklearn/utils/deprecation.py:87: FutureWarning: Function safe_indexing is deprecated; safe_indexing is deprecated in version 0.22 and will be removed in version 0.24.\n",
            "  warnings.warn(msg, category=FutureWarning)\n",
            "/usr/local/lib/python3.7/dist-packages/sklearn/utils/deprecation.py:87: FutureWarning: Function safe_indexing is deprecated; safe_indexing is deprecated in version 0.22 and will be removed in version 0.24.\n",
            "  warnings.warn(msg, category=FutureWarning)\n",
            "/usr/local/lib/python3.7/dist-packages/sklearn/utils/deprecation.py:87: FutureWarning: Function safe_indexing is deprecated; safe_indexing is deprecated in version 0.22 and will be removed in version 0.24.\n",
            "  warnings.warn(msg, category=FutureWarning)\n",
            "/usr/local/lib/python3.7/dist-packages/sklearn/utils/deprecation.py:87: FutureWarning: Function safe_indexing is deprecated; safe_indexing is deprecated in version 0.22 and will be removed in version 0.24.\n",
            "  warnings.warn(msg, category=FutureWarning)\n",
            "/usr/local/lib/python3.7/dist-packages/sklearn/utils/deprecation.py:87: FutureWarning: Function safe_indexing is deprecated; safe_indexing is deprecated in version 0.22 and will be removed in version 0.24.\n",
            "  warnings.warn(msg, category=FutureWarning)\n",
            "/usr/local/lib/python3.7/dist-packages/sklearn/utils/deprecation.py:87: FutureWarning: Function safe_indexing is deprecated; safe_indexing is deprecated in version 0.22 and will be removed in version 0.24.\n",
            "  warnings.warn(msg, category=FutureWarning)\n",
            "/usr/local/lib/python3.7/dist-packages/sklearn/utils/deprecation.py:87: FutureWarning: Function safe_indexing is deprecated; safe_indexing is deprecated in version 0.22 and will be removed in version 0.24.\n",
            "  warnings.warn(msg, category=FutureWarning)\n",
            "/usr/local/lib/python3.7/dist-packages/sklearn/utils/deprecation.py:87: FutureWarning: Function safe_indexing is deprecated; safe_indexing is deprecated in version 0.22 and will be removed in version 0.24.\n",
            "  warnings.warn(msg, category=FutureWarning)\n",
            "/usr/local/lib/python3.7/dist-packages/sklearn/utils/deprecation.py:87: FutureWarning: Function safe_indexing is deprecated; safe_indexing is deprecated in version 0.22 and will be removed in version 0.24.\n",
            "  warnings.warn(msg, category=FutureWarning)\n",
            "/usr/local/lib/python3.7/dist-packages/sklearn/utils/deprecation.py:87: FutureWarning: Function safe_indexing is deprecated; safe_indexing is deprecated in version 0.22 and will be removed in version 0.24.\n",
            "  warnings.warn(msg, category=FutureWarning)\n",
            "/usr/local/lib/python3.7/dist-packages/sklearn/utils/deprecation.py:87: FutureWarning: Function safe_indexing is deprecated; safe_indexing is deprecated in version 0.22 and will be removed in version 0.24.\n",
            "  warnings.warn(msg, category=FutureWarning)\n",
            "/usr/local/lib/python3.7/dist-packages/sklearn/utils/deprecation.py:87: FutureWarning: Function safe_indexing is deprecated; safe_indexing is deprecated in version 0.22 and will be removed in version 0.24.\n",
            "  warnings.warn(msg, category=FutureWarning)\n",
            "/usr/local/lib/python3.7/dist-packages/sklearn/utils/deprecation.py:87: FutureWarning: Function safe_indexing is deprecated; safe_indexing is deprecated in version 0.22 and will be removed in version 0.24.\n",
            "  warnings.warn(msg, category=FutureWarning)\n",
            "/usr/local/lib/python3.7/dist-packages/sklearn/utils/deprecation.py:87: FutureWarning: Function safe_indexing is deprecated; safe_indexing is deprecated in version 0.22 and will be removed in version 0.24.\n",
            "  warnings.warn(msg, category=FutureWarning)\n",
            "/usr/local/lib/python3.7/dist-packages/sklearn/utils/deprecation.py:87: FutureWarning: Function safe_indexing is deprecated; safe_indexing is deprecated in version 0.22 and will be removed in version 0.24.\n",
            "  warnings.warn(msg, category=FutureWarning)\n",
            "/usr/local/lib/python3.7/dist-packages/sklearn/utils/deprecation.py:87: FutureWarning: Function safe_indexing is deprecated; safe_indexing is deprecated in version 0.22 and will be removed in version 0.24.\n",
            "  warnings.warn(msg, category=FutureWarning)\n",
            "/usr/local/lib/python3.7/dist-packages/sklearn/utils/deprecation.py:87: FutureWarning: Function safe_indexing is deprecated; safe_indexing is deprecated in version 0.22 and will be removed in version 0.24.\n",
            "  warnings.warn(msg, category=FutureWarning)\n"
          ],
          "name": "stderr"
        }
      ]
    },
    {
      "cell_type": "code",
      "metadata": {
        "colab": {
          "base_uri": "https://localhost:8080/",
          "height": 285
        },
        "id": "6tO-Qf1rXbUS",
        "outputId": "fae2bc13-a4ca-496f-ac8a-64bc36561a0d"
      },
      "source": [
        "sns.heatmap(score_matrix)"
      ],
      "execution_count": 53,
      "outputs": [
        {
          "output_type": "execute_result",
          "data": {
            "text/plain": [
              "<matplotlib.axes._subplots.AxesSubplot at 0x7fdd39bad150>"
            ]
          },
          "metadata": {
            "tags": []
          },
          "execution_count": 53
        },
        {
          "output_type": "display_data",
          "data": {
            "image/png": "[encoded data removed]",
            "text/plain": [
              "<Figure size 432x288 with 2 Axes>"
            ]
          },
          "metadata": {
            "tags": [],
            "needs_background": "light"
          }
        }
      ]
    },
    {
      "cell_type": "code",
      "metadata": {
        "colab": {
          "base_uri": "https://localhost:8080/"
        },
        "id": "zL7XOg-WXdYe",
        "outputId": "45b57b71-c741-4552-fadd-ff2de4ce0114"
      },
      "source": [
        "np.mean(score_matrix)"
      ],
      "execution_count": 54,
      "outputs": [
        {
          "output_type": "execute_result",
          "data": {
            "text/plain": [
              "0.6825682709270263"
            ]
          },
          "metadata": {
            "tags": []
          },
          "execution_count": 54
        }
      ]
    },
    {
      "cell_type": "code",
      "metadata": {
        "id": "BWXF015cX0TK"
      },
      "source": [
        ""
      ],
      "execution_count": null,
      "outputs": []
    }
  ]
}